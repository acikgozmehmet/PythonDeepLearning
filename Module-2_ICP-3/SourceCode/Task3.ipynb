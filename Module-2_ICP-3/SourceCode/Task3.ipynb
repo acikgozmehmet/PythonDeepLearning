{
 "cells": [
  {
   "cell_type": "code",
   "execution_count": 1,
   "metadata": {},
   "outputs": [],
   "source": [
    "from keras.models import Sequential\n",
    "from keras import layers\n",
    "from keras.preprocessing.text import Tokenizer, one_hot\n",
    "from keras_preprocessing.sequence import pad_sequences\n",
    "from sklearn import preprocessing\n",
    "from sklearn.model_selection import train_test_split\n",
    "import numpy as np"
   ]
  },
  {
   "cell_type": "code",
   "execution_count": 2,
   "metadata": {},
   "outputs": [],
   "source": [
    "# Import dataset\n",
    "from sklearn.datasets import fetch_20newsgroups\n",
    "newsgroups_train = fetch_20newsgroups(subset='train', shuffle=True)"
   ]
  },
  {
   "cell_type": "code",
   "execution_count": 3,
   "metadata": {},
   "outputs": [],
   "source": [
    "# arrange the data\n",
    "sentences = newsgroups_train.data\n",
    "y = newsgroups_train.target"
   ]
  },
  {
   "cell_type": "code",
   "execution_count": 4,
   "metadata": {},
   "outputs": [],
   "source": [
    "# get the max review length in the reviews.\n",
    "max_review_len = max([len(s.split()) for s in sentences])"
   ]
  },
  {
   "cell_type": "code",
   "execution_count": 5,
   "metadata": {},
   "outputs": [],
   "source": [
    "# tokenizing data\n",
    "tokenizer = Tokenizer(num_words=max_review_len)\n",
    "tokenizer.fit_on_texts(sentences)"
   ]
  },
  {
   "cell_type": "code",
   "execution_count": 6,
   "metadata": {},
   "outputs": [],
   "source": [
    "# getting the vocabulary of data\n",
    "sentences = tokenizer.texts_to_sequences(sentences)\n",
    "padded_docs = pad_sequences(sentences, maxlen=max_review_len)"
   ]
  },
  {
   "cell_type": "code",
   "execution_count": 7,
   "metadata": {},
   "outputs": [
    {
     "data": {
      "text/plain": [
       "array([ 0,  1,  2,  3,  4,  5,  6,  7,  8,  9, 10, 11, 12, 13, 14, 15, 16,\n",
       "       17, 18, 19], dtype=int64)"
      ]
     },
     "execution_count": 7,
     "metadata": {},
     "output_type": "execute_result"
    }
   ],
   "source": [
    "le = preprocessing.LabelEncoder()\n",
    "y = le.fit_transform(y)\n",
    "np.unique(y)"
   ]
  },
  {
   "cell_type": "code",
   "execution_count": 8,
   "metadata": {},
   "outputs": [],
   "source": [
    "X_train, X_test, y_train, y_test = train_test_split(padded_docs, y, test_size=0.25, random_state=1000)\n",
    "vocab_size = len(tokenizer.word_index) + 1"
   ]
  },
  {
   "cell_type": "code",
   "execution_count": 9,
   "metadata": {},
   "outputs": [],
   "source": [
    "# model\n",
    "model = Sequential()\n",
    "model.add(layers.Embedding(vocab_size, 50, input_length=max_review_len))\n",
    "model.add(layers.Flatten())\n",
    "model.add(layers.Dense(300, activation='relu'))\n",
    "model.add(layers.Dense(20, activation='softmax'))\n",
    "model.compile(loss='sparse_categorical_crossentropy', optimizer='adam', metrics=['acc'])"
   ]
  },
  {
   "cell_type": "code",
   "execution_count": 10,
   "metadata": {},
   "outputs": [
    {
     "name": "stdout",
     "output_type": "stream",
     "text": [
      "Model: \"sequential\"\n",
      "_________________________________________________________________\n",
      "Layer (type)                 Output Shape              Param #   \n",
      "=================================================================\n",
      "embedding (Embedding)        (None, 11821, 50)         6707150   \n",
      "_________________________________________________________________\n",
      "flatten (Flatten)            (None, 591050)            0         \n",
      "_________________________________________________________________\n",
      "dense (Dense)                (None, 300)               177315300 \n",
      "_________________________________________________________________\n",
      "dense_1 (Dense)              (None, 20)                6020      \n",
      "=================================================================\n",
      "Total params: 184,028,470\n",
      "Trainable params: 184,028,470\n",
      "Non-trainable params: 0\n",
      "_________________________________________________________________\n",
      "None\n",
      "Epoch 1/2\n",
      "34/34 [==============================] - 191s 6s/step - loss: 11.4815 - acc: 0.0546 - val_loss: 3.0917 - val_acc: 0.0534\n",
      "Epoch 2/2\n",
      "34/34 [==============================] - 184s 5s/step - loss: 2.9826 - acc: 0.0708 - val_loss: 2.9416 - val_acc: 0.0965\n"
     ]
    }
   ],
   "source": [
    "# summarize the model\n",
    "print(model.summary())\n",
    "history = model.fit(X_train, y_train, epochs=2, verbose=True, validation_data=(X_test, y_test), batch_size=256)\n"
   ]
  },
  {
   "cell_type": "code",
   "execution_count": 11,
   "metadata": {},
   "outputs": [
    {
     "name": "stdout",
     "output_type": "stream",
     "text": [
      "89/89 [==============================] - 29s 320ms/step - loss: 2.9416 - acc: 0.0965\n",
      "Evaluation result on Test Data : Loss = 2.941577196121216, accuracy = 0.09650053083896637\n"
     ]
    }
   ],
   "source": [
    "[test_loss, test_acc] = model.evaluate(X_test, y_test)\n",
    "print(\"Evaluation result on Test Data : Loss = {}, accuracy = {}\".format(test_loss, test_acc))"
   ]
  },
  {
   "cell_type": "code",
   "execution_count": null,
   "metadata": {},
   "outputs": [],
   "source": []
  }
 ],
 "metadata": {
  "kernelspec": {
   "display_name": "Python 3",
   "language": "python",
   "name": "python3"
  },
  "language_info": {
   "codemirror_mode": {
    "name": "ipython",
    "version": 3
   },
   "file_extension": ".py",
   "mimetype": "text/x-python",
   "name": "python",
   "nbconvert_exporter": "python",
   "pygments_lexer": "ipython3",
   "version": "3.6.10"
  }
 },
 "nbformat": 4,
 "nbformat_minor": 4
}
