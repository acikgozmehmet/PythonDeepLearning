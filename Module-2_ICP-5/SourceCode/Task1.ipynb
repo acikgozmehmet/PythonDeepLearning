{
 "cells": [
  {
   "cell_type": "code",
   "execution_count": 64,
   "metadata": {},
   "outputs": [],
   "source": [
    "import pandas as pd\n",
    "import numpy as np\n",
    "from keras.preprocessing.text import Tokenizer\n",
    "from keras.preprocessing.sequence import pad_sequences\n",
    "from keras.models import Sequential, load_model\n",
    "from keras.layers import Dense, Embedding, LSTM, SpatialDropout1D\n",
    "from matplotlib import pyplot\n",
    "from sklearn.model_selection import train_test_split\n",
    "from sklearn.preprocessing import LabelEncoder\n",
    "from keras.utils.np_utils import to_categorical\n",
    "import re\n"
   ]
  },
  {
   "cell_type": "code",
   "execution_count": 68,
   "metadata": {},
   "outputs": [
    {
     "data": {
      "text/html": [
       "<div>\n",
       "<style scoped>\n",
       "    .dataframe tbody tr th:only-of-type {\n",
       "        vertical-align: middle;\n",
       "    }\n",
       "\n",
       "    .dataframe tbody tr th {\n",
       "        vertical-align: top;\n",
       "    }\n",
       "\n",
       "    .dataframe thead th {\n",
       "        text-align: right;\n",
       "    }\n",
       "</style>\n",
       "<table border=\"1\" class=\"dataframe\">\n",
       "  <thead>\n",
       "    <tr style=\"text-align: right;\">\n",
       "      <th></th>\n",
       "      <th>sentiment</th>\n",
       "      <th>text</th>\n",
       "    </tr>\n",
       "  </thead>\n",
       "  <tbody>\n",
       "    <tr>\n",
       "      <th>0</th>\n",
       "      <td>Neutral</td>\n",
       "      <td>rt nancyleegrahn how did everyone feel about t...</td>\n",
       "    </tr>\n",
       "    <tr>\n",
       "      <th>1</th>\n",
       "      <td>Positive</td>\n",
       "      <td>rt scottwalker didnt catch the full gopdebate ...</td>\n",
       "    </tr>\n",
       "    <tr>\n",
       "      <th>2</th>\n",
       "      <td>Neutral</td>\n",
       "      <td>rt tjmshow no mention of tamir rice and the go...</td>\n",
       "    </tr>\n",
       "    <tr>\n",
       "      <th>3</th>\n",
       "      <td>Positive</td>\n",
       "      <td>rt robgeorge that carly fiorina is trending  h...</td>\n",
       "    </tr>\n",
       "    <tr>\n",
       "      <th>4</th>\n",
       "      <td>Positive</td>\n",
       "      <td>rt danscavino gopdebate w realdonaldtrump deli...</td>\n",
       "    </tr>\n",
       "  </tbody>\n",
       "</table>\n",
       "</div>"
      ],
      "text/plain": [
       "  sentiment                                               text\n",
       "0   Neutral  rt nancyleegrahn how did everyone feel about t...\n",
       "1  Positive  rt scottwalker didnt catch the full gopdebate ...\n",
       "2   Neutral  rt tjmshow no mention of tamir rice and the go...\n",
       "3  Positive  rt robgeorge that carly fiorina is trending  h...\n",
       "4  Positive  rt danscavino gopdebate w realdonaldtrump deli..."
      ]
     },
     "execution_count": 68,
     "metadata": {},
     "output_type": "execute_result"
    }
   ],
   "source": [
    "# import data\n",
    "data = pd.read_csv(\"Sentiment.csv\" ,usecols = [\"text\", \"sentiment\"])\n",
    "data.text = data.text.apply(lambda x: x.lower()) \n",
    "data['text'] = data['text'].apply((lambda x: re.sub('[^a-zA-z0-9\\s]', '', x)))\n",
    "data.head()\n"
   ]
  },
  {
   "cell_type": "code",
   "execution_count": 77,
   "metadata": {},
   "outputs": [
    {
     "name": "stdout",
     "output_type": "stream",
     "text": [
      "Positive:  4472\n",
      "Negative:  16986\n",
      "Neutral :  6284\n"
     ]
    }
   ],
   "source": [
    "print( 'Positive: ', data[data['sentiment'] == 'Positive'].size)\n",
    "print( 'Negative: ', data[data['sentiment'] == 'Negative'].size)\n",
    "print( 'Neutral : ', data[data['sentiment'] == 'Neutral'].size)"
   ]
  },
  {
   "cell_type": "code",
   "execution_count": 23,
   "metadata": {},
   "outputs": [],
   "source": [
    "for idx, row in data.iterrows():\n",
    "    row[1] = row[1].replace('rt', ' ')"
   ]
  },
  {
   "cell_type": "code",
   "execution_count": 24,
   "metadata": {},
   "outputs": [
    {
     "data": {
      "text/html": [
       "<div>\n",
       "<style scoped>\n",
       "    .dataframe tbody tr th:only-of-type {\n",
       "        vertical-align: middle;\n",
       "    }\n",
       "\n",
       "    .dataframe tbody tr th {\n",
       "        vertical-align: top;\n",
       "    }\n",
       "\n",
       "    .dataframe thead th {\n",
       "        text-align: right;\n",
       "    }\n",
       "</style>\n",
       "<table border=\"1\" class=\"dataframe\">\n",
       "  <thead>\n",
       "    <tr style=\"text-align: right;\">\n",
       "      <th></th>\n",
       "      <th>sentiment</th>\n",
       "      <th>text</th>\n",
       "    </tr>\n",
       "  </thead>\n",
       "  <tbody>\n",
       "    <tr>\n",
       "      <th>0</th>\n",
       "      <td>Neutral</td>\n",
       "      <td>nancyleegrahn how did everyone feel about th...</td>\n",
       "    </tr>\n",
       "    <tr>\n",
       "      <th>1</th>\n",
       "      <td>Positive</td>\n",
       "      <td>scottwalker didnt catch the full gopdebate l...</td>\n",
       "    </tr>\n",
       "    <tr>\n",
       "      <th>2</th>\n",
       "      <td>Neutral</td>\n",
       "      <td>tjmshow no mention of tamir rice and the gop...</td>\n",
       "    </tr>\n",
       "    <tr>\n",
       "      <th>3</th>\n",
       "      <td>Positive</td>\n",
       "      <td>robgeorge that carly fiorina is trending  ho...</td>\n",
       "    </tr>\n",
       "    <tr>\n",
       "      <th>4</th>\n",
       "      <td>Positive</td>\n",
       "      <td>danscavino gopdebate w realdonaldtrump deliv...</td>\n",
       "    </tr>\n",
       "  </tbody>\n",
       "</table>\n",
       "</div>"
      ],
      "text/plain": [
       "  sentiment                                               text\n",
       "0   Neutral    nancyleegrahn how did everyone feel about th...\n",
       "1  Positive    scottwalker didnt catch the full gopdebate l...\n",
       "2   Neutral    tjmshow no mention of tamir rice and the gop...\n",
       "3  Positive    robgeorge that carly fiorina is trending  ho...\n",
       "4  Positive    danscavino gopdebate w realdonaldtrump deliv..."
      ]
     },
     "execution_count": 24,
     "metadata": {},
     "output_type": "execute_result"
    }
   ],
   "source": [
    "data.head()"
   ]
  },
  {
   "cell_type": "code",
   "execution_count": 25,
   "metadata": {},
   "outputs": [],
   "source": [
    "max_fatures = 2000\n",
    "tokenizer = Tokenizer(num_words=max_fatures, split=' ')\n",
    "tokenizer.fit_on_texts(data['text'].values)\n",
    "X = tokenizer.texts_to_sequences(data['text'].values)\n",
    "X = pad_sequences(X)\n"
   ]
  },
  {
   "cell_type": "code",
   "execution_count": 26,
   "metadata": {},
   "outputs": [
    {
     "data": {
      "text/plain": [
       "array([[   0,    0,    0, ...,   51, 1039,    1],\n",
       "       [   0,    0,    0, ..., 1577, 1356,  847],\n",
       "       [   0,    0,    0, ...,   10,  696,  518],\n",
       "       ...,\n",
       "       [   0,    0,    0, ...,   68,   62,    3],\n",
       "       [   0,    0,    0, ..., 1112, 1588,   81],\n",
       "       [   0,    0,    0, ...,  196,    3,  880]])"
      ]
     },
     "execution_count": 26,
     "metadata": {},
     "output_type": "execute_result"
    }
   ],
   "source": [
    "X"
   ]
  },
  {
   "cell_type": "code",
   "execution_count": 27,
   "metadata": {},
   "outputs": [],
   "source": [
    "embed_dim = 128\n",
    "lstm_out = 196\n",
    "def createmodel():\n",
    "    model = Sequential()\n",
    "    model.add(Embedding(max_fatures, embed_dim,input_length = X.shape[1]))\n",
    "    model.add(LSTM(lstm_out, dropout=0.2, recurrent_dropout=0.2))\n",
    "    model.add(Dense(3,activation='softmax'))\n",
    "    model.compile(loss = 'categorical_crossentropy', optimizer='adam',metrics = ['accuracy'])\n",
    "    return model"
   ]
  },
  {
   "cell_type": "code",
   "execution_count": 28,
   "metadata": {},
   "outputs": [],
   "source": [
    "labelencoder = LabelEncoder()\n",
    "integer_encoded = labelencoder.fit_transform(data['sentiment'])\n",
    "y = to_categorical(integer_encoded)\n",
    "X_train, X_test, Y_train, Y_test = train_test_split(X,y, test_size = 0.33, random_state = 42)"
   ]
  },
  {
   "cell_type": "code",
   "execution_count": 114,
   "metadata": {},
   "outputs": [
    {
     "name": "stdout",
     "output_type": "stream",
     "text": [
      "Epoch 1/10\n",
      "291/291 - 31s - loss: 0.8239 - accuracy: 0.6440\n",
      "Epoch 2/10\n",
      "291/291 - 30s - loss: 0.6753 - accuracy: 0.7103\n",
      "Epoch 3/10\n",
      "291/291 - 29s - loss: 0.6122 - accuracy: 0.7459\n",
      "Epoch 4/10\n",
      "291/291 - 29s - loss: 0.5624 - accuracy: 0.7672\n",
      "Epoch 5/10\n",
      "291/291 - 29s - loss: 0.5158 - accuracy: 0.7880\n",
      "Epoch 6/10\n",
      "291/291 - 29s - loss: 0.4746 - accuracy: 0.8024\n",
      "Epoch 7/10\n",
      "291/291 - 29s - loss: 0.4360 - accuracy: 0.8233\n",
      "Epoch 8/10\n",
      "291/291 - 29s - loss: 0.4084 - accuracy: 0.8327\n",
      "Epoch 9/10\n",
      "291/291 - 29s - loss: 0.3790 - accuracy: 0.8438\n",
      "Epoch 10/10\n",
      "291/291 - 29s - loss: 0.3512 - accuracy: 0.8574\n",
      "144/144 - 1s - loss: 1.2330 - accuracy: 0.6540\n",
      "1.2330067157745361\n",
      "0.6539973616600037\n",
      "['loss', 'accuracy']\n"
     ]
    }
   ],
   "source": [
    "batch_size = 32\n",
    "model = createmodel()\n",
    "model.fit(X_train, Y_train, epochs = 10, batch_size=batch_size, verbose = 2)\n",
    "score,acc = model.evaluate(X_test,Y_test,verbose=2,batch_size=batch_size)\n",
    "print(score)\n",
    "print(acc)\n",
    "print(model.metrics_names)\n"
   ]
  },
  {
   "cell_type": "markdown",
   "metadata": {},
   "source": [
    "## Question 1"
   ]
  },
  {
   "cell_type": "code",
   "execution_count": 119,
   "metadata": {},
   "outputs": [],
   "source": [
    "model.save('model.h5')\n",
    "m = load_model('model.h5')"
   ]
  },
  {
   "cell_type": "code",
   "execution_count": 134,
   "metadata": {},
   "outputs": [
    {
     "name": "stdout",
     "output_type": "stream",
     "text": [
      "a lot of good things are happening we are respected again throughout the world and thats a great thing realdonaldtrump\n"
     ]
    }
   ],
   "source": [
    "text = [['A lot of good things are happening. We are respected again throughout the world, and thats a great '\n",
    "         'thing. @realDonaldTrump']]\n",
    "\n",
    "df  = pd.DataFrame(text, index=range(0,1,1), columns = ['text'])\n",
    "df['text'] = df.text.apply(lambda x : x.lower()).apply(lambda x: re.sub('[^a-zA-z0-9\\s]','',x))\n",
    "print(df.text[0])"
   ]
  },
  {
   "cell_type": "code",
   "execution_count": 135,
   "metadata": {},
   "outputs": [],
   "source": [
    "max_features = 2000\n",
    "tokenizer = Tokenizer(num_words=max_features, split=' ')\n",
    "tokenizer.fit_on_texts(df.text.values)\n",
    "X = tokenizer.texts_to_sequences(df.text.values)\n",
    "X = pad_sequences(X, maxlen=28)"
   ]
  },
  {
   "cell_type": "code",
   "execution_count": 136,
   "metadata": {},
   "outputs": [
    {
     "name": "stdout",
     "output_type": "stream",
     "text": [
      "Predicted value  :[0]\n",
      "Predicted probability  :[[0.6787184  0.06578439 0.25549722]]\n",
      "\n"
     ]
    }
   ],
   "source": [
    "pred_value = m.predict(X)\n",
    "pred_class = m.predict_classes(X)\n",
    "pred_probability = m.predict_proba(X)\n",
    "print(\"Predicted value  :\" +str(pred_class))\n",
    "print(\"Predicted probability  :\" +str(pred_probability))\n",
    "print()"
   ]
  },
  {
   "cell_type": "code",
   "execution_count": null,
   "metadata": {},
   "outputs": [],
   "source": []
  }
 ],
 "metadata": {
  "kernelspec": {
   "display_name": "Python 3",
   "language": "python",
   "name": "python3"
  },
  "language_info": {
   "codemirror_mode": {
    "name": "ipython",
    "version": 3
   },
   "file_extension": ".py",
   "mimetype": "text/x-python",
   "name": "python",
   "nbconvert_exporter": "python",
   "pygments_lexer": "ipython3",
   "version": "3.6.10"
  }
 },
 "nbformat": 4,
 "nbformat_minor": 4
}
